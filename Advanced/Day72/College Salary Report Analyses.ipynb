{
 "cells": [
  {
   "cell_type": "markdown",
   "id": "4ce7aad5",
   "metadata": {},
   "source": [
    "# WELCOME\n",
    "\n",
    "This is a challenge project on\n",
    "\n",
    "## Highest Paying Jobs With a Bachelor’s Degree\n",
    "\n",
    "Data is gotten from:\n",
    "\"https://www.payscale.com/college-salary-report/majors-that-pay-you-back/bachelors?orderBy=percentHighMeaning&ascending=false\"\n",
    "\n",
    "### Analysed by Victor Nice"
   ]
  },
  {
   "cell_type": "markdown",
   "id": "38cca459",
   "metadata": {},
   "source": [
    "-----------------------------------------------------------"
   ]
  },
  {
   "cell_type": "markdown",
   "id": "ad12c75a",
   "metadata": {},
   "source": [
    "# Web Scraping"
   ]
  },
  {
   "cell_type": "code",
   "execution_count": 1,
   "id": "10195456",
   "metadata": {
    "collapsed": true
   },
   "outputs": [
    {
     "name": "stdout",
     "output_type": "stream",
     "text": [
      "[{'Rank': '1', 'Major': 'Petroleum Engineering', 'Degree': 'Bachelors', 'Early Career Pay ($)': 97500.0, 'Mid-Career Pay ($)': 212500.0, '% High Meaning': '61'}, {'Rank': '2', 'Major': 'Operations Research & Industrial Engineering', 'Degree': 'Bachelors', 'Early Career Pay ($)': 98300.0, 'Mid-Career Pay ($)': 191800.0, '% High Meaning': '21'}, {'Rank': '3', 'Major': 'Interaction Design', 'Degree': 'Bachelors', 'Early Career Pay ($)': 74700.0, 'Mid-Career Pay ($)': 173600.0, '% High Meaning': '54'}, {'Rank': '4', 'Major': 'Applied Economics and Management', 'Degree': 'Bachelors', 'Early Career Pay ($)': 76500.0, 'Mid-Career Pay ($)': 164400.0, '% High Meaning': '54'}, {'Rank': '5', 'Major': 'Building Science', 'Degree': 'Bachelors', 'Early Career Pay ($)': 69000.0, 'Mid-Career Pay ($)': 163100.0, '% High Meaning': '47'}, {'Rank': '6', 'Major': 'Actuarial Mathematics', 'Degree': 'Bachelors', 'Early Career Pay ($)': 70700.0, 'Mid-Career Pay ($)': 160000.0, '% High Meaning': '52'}, {'Rank': '6', 'Major': 'Operations Research', 'Degree': 'Bachelors', 'Early Career Pay ($)': 92200.0, 'Mid-Career Pay ($)': 160000.0, '% High Meaning': '57'}, {'Rank': '8', 'Major': 'Systems Engineering', 'Degree': 'Bachelors', 'Early Career Pay ($)': 87000.0, 'Mid-Career Pay ($)': 159100.0, '% High Meaning': '58'}, {'Rank': '9', 'Major': 'Optical Science & Engineering', 'Degree': 'Bachelors', 'Early Career Pay ($)': 79600.0, 'Mid-Career Pay ($)': 158300.0, '% High Meaning': '73'}, {'Rank': '10', 'Major': 'Information & Computer Science', 'Degree': 'Bachelors', 'Early Career Pay ($)': 76000.0, 'Mid-Career Pay ($)': 157800.0, '% High Meaning': '63'}, {'Rank': '11', 'Major': 'Aeronautics & Astronautics', 'Degree': 'Bachelors', 'Early Career Pay ($)': 88200.0, 'Mid-Career Pay ($)': 156900.0, '% High Meaning': '56'}, {'Rank': '12', 'Major': 'Aerospace Studies', 'Degree': 'Bachelors', 'Early Career Pay ($)': 62600.0, 'Mid-Career Pay ($)': 154300.0, '% High Meaning': '-'}, {'Rank': '13', 'Major': 'Pharmacy', 'Degree': 'Bachelors', 'Early Career Pay ($)': 69400.0, 'Mid-Career Pay ($)': 154000.0, '% High Meaning': '79'}, {'Rank': '14', 'Major': 'Cognitive Science', 'Degree': 'Bachelors', 'Early Career Pay ($)': 78000.0, 'Mid-Career Pay ($)': 153800.0, '% High Meaning': '43'}, {'Rank': '15', 'Major': 'Managerial Economics', 'Degree': 'Bachelors', 'Early Career Pay ($)': 74700.0, 'Mid-Career Pay ($)': 153300.0, '% High Meaning': '38'}, {'Rank': '16', 'Major': 'Quantitative Economics', 'Degree': 'Bachelors', 'Early Career Pay ($)': 74500.0, 'Mid-Career Pay ($)': 152700.0, '% High Meaning': '43'}, {'Rank': '17', 'Major': 'Econometrics', 'Degree': 'Bachelors', 'Early Career Pay ($)': 72000.0, 'Mid-Career Pay ($)': 152100.0, '% High Meaning': '35'}, {'Rank': '18', 'Major': 'Foreign Affairs', 'Degree': 'Bachelors', 'Early Career Pay ($)': 62900.0, 'Mid-Career Pay ($)': 152000.0, '% High Meaning': '32'}, {'Rank': '19', 'Major': 'Chemical Engineering', 'Degree': 'Bachelors', 'Early Career Pay ($)': 85600.0, 'Mid-Career Pay ($)': 151800.0, '% High Meaning': '55'}, {'Rank': '20', 'Major': 'Public Accounting', 'Degree': 'Bachelors', 'Early Career Pay ($)': 69700.0, 'Mid-Career Pay ($)': 151200.0, '% High Meaning': '47'}, {'Rank': '21', 'Major': 'Political Economy', 'Degree': 'Bachelors', 'Early Career Pay ($)': 73100.0, 'Mid-Career Pay ($)': 150600.0, '% High Meaning': '31'}, {'Rank': '22', 'Major': 'Corporate Accounting & Finance', 'Degree': 'Bachelors', 'Early Career Pay ($)': 76800.0, 'Mid-Career Pay ($)': 149600.0, '% High Meaning': '50'}, {'Rank': '23', 'Major': 'Actuarial Science', 'Degree': 'Bachelors', 'Early Career Pay ($)': 76700.0, 'Mid-Career Pay ($)': 149000.0, '% High Meaning': '42'}, {'Rank': '24', 'Major': 'Computer Engineering (CE)', 'Degree': 'Bachelors', 'Early Career Pay ($)': 89100.0, 'Mid-Career Pay ($)': 148500.0, '% High Meaning': '46'}, {'Rank': '25', 'Major': 'Electrical Power Engineering', 'Degree': 'Bachelors', 'Early Career Pay ($)': 84700.0, 'Mid-Career Pay ($)': 148300.0, '% High Meaning': '72'}]\n"
     ]
    },
    {
     "data": {
      "text/plain": [
       "[{'Rank': '1',\n",
       "  'Major': 'Petroleum Engineering',\n",
       "  'Degree': 'Bachelors',\n",
       "  'Early Career Pay ($)': 97500.0,\n",
       "  'Mid-Career Pay ($)': 212500.0,\n",
       "  '% High Meaning': '61'},\n",
       " {'Rank': '2',\n",
       "  'Major': 'Operations Research & Industrial Engineering',\n",
       "  'Degree': 'Bachelors',\n",
       "  'Early Career Pay ($)': 98300.0,\n",
       "  'Mid-Career Pay ($)': 191800.0,\n",
       "  '% High Meaning': '21'},\n",
       " {'Rank': '3',\n",
       "  'Major': 'Interaction Design',\n",
       "  'Degree': 'Bachelors',\n",
       "  'Early Career Pay ($)': 74700.0,\n",
       "  'Mid-Career Pay ($)': 173600.0,\n",
       "  '% High Meaning': '54'},\n",
       " {'Rank': '4',\n",
       "  'Major': 'Applied Economics and Management',\n",
       "  'Degree': 'Bachelors',\n",
       "  'Early Career Pay ($)': 76500.0,\n",
       "  'Mid-Career Pay ($)': 164400.0,\n",
       "  '% High Meaning': '54'},\n",
       " {'Rank': '5',\n",
       "  'Major': 'Building Science',\n",
       "  'Degree': 'Bachelors',\n",
       "  'Early Career Pay ($)': 69000.0,\n",
       "  'Mid-Career Pay ($)': 163100.0,\n",
       "  '% High Meaning': '47'},\n",
       " {'Rank': '6',\n",
       "  'Major': 'Actuarial Mathematics',\n",
       "  'Degree': 'Bachelors',\n",
       "  'Early Career Pay ($)': 70700.0,\n",
       "  'Mid-Career Pay ($)': 160000.0,\n",
       "  '% High Meaning': '52'},\n",
       " {'Rank': '6',\n",
       "  'Major': 'Operations Research',\n",
       "  'Degree': 'Bachelors',\n",
       "  'Early Career Pay ($)': 92200.0,\n",
       "  'Mid-Career Pay ($)': 160000.0,\n",
       "  '% High Meaning': '57'},\n",
       " {'Rank': '8',\n",
       "  'Major': 'Systems Engineering',\n",
       "  'Degree': 'Bachelors',\n",
       "  'Early Career Pay ($)': 87000.0,\n",
       "  'Mid-Career Pay ($)': 159100.0,\n",
       "  '% High Meaning': '58'},\n",
       " {'Rank': '9',\n",
       "  'Major': 'Optical Science & Engineering',\n",
       "  'Degree': 'Bachelors',\n",
       "  'Early Career Pay ($)': 79600.0,\n",
       "  'Mid-Career Pay ($)': 158300.0,\n",
       "  '% High Meaning': '73'},\n",
       " {'Rank': '10',\n",
       "  'Major': 'Information & Computer Science',\n",
       "  'Degree': 'Bachelors',\n",
       "  'Early Career Pay ($)': 76000.0,\n",
       "  'Mid-Career Pay ($)': 157800.0,\n",
       "  '% High Meaning': '63'},\n",
       " {'Rank': '11',\n",
       "  'Major': 'Aeronautics & Astronautics',\n",
       "  'Degree': 'Bachelors',\n",
       "  'Early Career Pay ($)': 88200.0,\n",
       "  'Mid-Career Pay ($)': 156900.0,\n",
       "  '% High Meaning': '56'},\n",
       " {'Rank': '12',\n",
       "  'Major': 'Aerospace Studies',\n",
       "  'Degree': 'Bachelors',\n",
       "  'Early Career Pay ($)': 62600.0,\n",
       "  'Mid-Career Pay ($)': 154300.0,\n",
       "  '% High Meaning': '-'},\n",
       " {'Rank': '13',\n",
       "  'Major': 'Pharmacy',\n",
       "  'Degree': 'Bachelors',\n",
       "  'Early Career Pay ($)': 69400.0,\n",
       "  'Mid-Career Pay ($)': 154000.0,\n",
       "  '% High Meaning': '79'},\n",
       " {'Rank': '14',\n",
       "  'Major': 'Cognitive Science',\n",
       "  'Degree': 'Bachelors',\n",
       "  'Early Career Pay ($)': 78000.0,\n",
       "  'Mid-Career Pay ($)': 153800.0,\n",
       "  '% High Meaning': '43'},\n",
       " {'Rank': '15',\n",
       "  'Major': 'Managerial Economics',\n",
       "  'Degree': 'Bachelors',\n",
       "  'Early Career Pay ($)': 74700.0,\n",
       "  'Mid-Career Pay ($)': 153300.0,\n",
       "  '% High Meaning': '38'},\n",
       " {'Rank': '16',\n",
       "  'Major': 'Quantitative Economics',\n",
       "  'Degree': 'Bachelors',\n",
       "  'Early Career Pay ($)': 74500.0,\n",
       "  'Mid-Career Pay ($)': 152700.0,\n",
       "  '% High Meaning': '43'},\n",
       " {'Rank': '17',\n",
       "  'Major': 'Econometrics',\n",
       "  'Degree': 'Bachelors',\n",
       "  'Early Career Pay ($)': 72000.0,\n",
       "  'Mid-Career Pay ($)': 152100.0,\n",
       "  '% High Meaning': '35'},\n",
       " {'Rank': '18',\n",
       "  'Major': 'Foreign Affairs',\n",
       "  'Degree': 'Bachelors',\n",
       "  'Early Career Pay ($)': 62900.0,\n",
       "  'Mid-Career Pay ($)': 152000.0,\n",
       "  '% High Meaning': '32'},\n",
       " {'Rank': '19',\n",
       "  'Major': 'Chemical Engineering',\n",
       "  'Degree': 'Bachelors',\n",
       "  'Early Career Pay ($)': 85600.0,\n",
       "  'Mid-Career Pay ($)': 151800.0,\n",
       "  '% High Meaning': '55'},\n",
       " {'Rank': '20',\n",
       "  'Major': 'Public Accounting',\n",
       "  'Degree': 'Bachelors',\n",
       "  'Early Career Pay ($)': 69700.0,\n",
       "  'Mid-Career Pay ($)': 151200.0,\n",
       "  '% High Meaning': '47'},\n",
       " {'Rank': '21',\n",
       "  'Major': 'Political Economy',\n",
       "  'Degree': 'Bachelors',\n",
       "  'Early Career Pay ($)': 73100.0,\n",
       "  'Mid-Career Pay ($)': 150600.0,\n",
       "  '% High Meaning': '31'},\n",
       " {'Rank': '22',\n",
       "  'Major': 'Corporate Accounting & Finance',\n",
       "  'Degree': 'Bachelors',\n",
       "  'Early Career Pay ($)': 76800.0,\n",
       "  'Mid-Career Pay ($)': 149600.0,\n",
       "  '% High Meaning': '50'},\n",
       " {'Rank': '23',\n",
       "  'Major': 'Actuarial Science',\n",
       "  'Degree': 'Bachelors',\n",
       "  'Early Career Pay ($)': 76700.0,\n",
       "  'Mid-Career Pay ($)': 149000.0,\n",
       "  '% High Meaning': '42'},\n",
       " {'Rank': '24',\n",
       "  'Major': 'Computer Engineering (CE)',\n",
       "  'Degree': 'Bachelors',\n",
       "  'Early Career Pay ($)': 89100.0,\n",
       "  'Mid-Career Pay ($)': 148500.0,\n",
       "  '% High Meaning': '46'},\n",
       " {'Rank': '25',\n",
       "  'Major': 'Electrical Power Engineering',\n",
       "  'Degree': 'Bachelors',\n",
       "  'Early Career Pay ($)': 84700.0,\n",
       "  'Mid-Career Pay ($)': 148300.0,\n",
       "  '% High Meaning': '72'}]"
      ]
     },
     "execution_count": 1,
     "metadata": {},
     "output_type": "execute_result"
    }
   ],
   "source": [
    "# Importing external python file\n",
    "from data_scraping import CollegeSalaryReport\n",
    "\n",
    "# initialize a college instance\n",
    "college = CollegeSalaryReport()\n",
    "\n",
    "# get report\n",
    "report = college.get_report()\n",
    "\n",
    "report"
   ]
  },
  {
   "cell_type": "markdown",
   "id": "92c044bd",
   "metadata": {},
   "source": [
    "# Importing Libraries"
   ]
  },
  {
   "cell_type": "code",
   "execution_count": 5,
   "id": "aaafef6f",
   "metadata": {},
   "outputs": [],
   "source": [
    "import pandas as pd\n",
    "\n",
    "pd.options.display.float_format = '{:,.2f}'.format"
   ]
  },
  {
   "cell_type": "markdown",
   "id": "afb16b87",
   "metadata": {},
   "source": [
    "## EDA"
   ]
  },
  {
   "cell_type": "code",
   "execution_count": 13,
   "id": "bc833e19",
   "metadata": {},
   "outputs": [
    {
     "data": {
      "text/html": [
       "<div>\n",
       "<style scoped>\n",
       "    .dataframe tbody tr th:only-of-type {\n",
       "        vertical-align: middle;\n",
       "    }\n",
       "\n",
       "    .dataframe tbody tr th {\n",
       "        vertical-align: top;\n",
       "    }\n",
       "\n",
       "    .dataframe thead th {\n",
       "        text-align: right;\n",
       "    }\n",
       "</style>\n",
       "<table border=\"1\" class=\"dataframe\">\n",
       "  <thead>\n",
       "    <tr style=\"text-align: right;\">\n",
       "      <th></th>\n",
       "      <th>Rank</th>\n",
       "      <th>Major</th>\n",
       "      <th>Degree</th>\n",
       "      <th>Early Career Pay ($)</th>\n",
       "      <th>Mid-Career Pay ($)</th>\n",
       "      <th>% High Meaning</th>\n",
       "    </tr>\n",
       "  </thead>\n",
       "  <tbody>\n",
       "    <tr>\n",
       "      <th>0</th>\n",
       "      <td>1</td>\n",
       "      <td>Petroleum Engineering</td>\n",
       "      <td>Bachelors</td>\n",
       "      <td>97,500.00</td>\n",
       "      <td>212,500.00</td>\n",
       "      <td>61</td>\n",
       "    </tr>\n",
       "    <tr>\n",
       "      <th>1</th>\n",
       "      <td>2</td>\n",
       "      <td>Operations Research &amp; Industrial Engineering</td>\n",
       "      <td>Bachelors</td>\n",
       "      <td>98,300.00</td>\n",
       "      <td>191,800.00</td>\n",
       "      <td>21</td>\n",
       "    </tr>\n",
       "    <tr>\n",
       "      <th>2</th>\n",
       "      <td>3</td>\n",
       "      <td>Interaction Design</td>\n",
       "      <td>Bachelors</td>\n",
       "      <td>74,700.00</td>\n",
       "      <td>173,600.00</td>\n",
       "      <td>54</td>\n",
       "    </tr>\n",
       "    <tr>\n",
       "      <th>3</th>\n",
       "      <td>4</td>\n",
       "      <td>Applied Economics and Management</td>\n",
       "      <td>Bachelors</td>\n",
       "      <td>76,500.00</td>\n",
       "      <td>164,400.00</td>\n",
       "      <td>54</td>\n",
       "    </tr>\n",
       "    <tr>\n",
       "      <th>4</th>\n",
       "      <td>5</td>\n",
       "      <td>Building Science</td>\n",
       "      <td>Bachelors</td>\n",
       "      <td>69,000.00</td>\n",
       "      <td>163,100.00</td>\n",
       "      <td>47</td>\n",
       "    </tr>\n",
       "  </tbody>\n",
       "</table>\n",
       "</div>"
      ],
      "text/plain": [
       "  Rank                                         Major     Degree  \\\n",
       "0    1                         Petroleum Engineering  Bachelors   \n",
       "1    2  Operations Research & Industrial Engineering  Bachelors   \n",
       "2    3                            Interaction Design  Bachelors   \n",
       "3    4              Applied Economics and Management  Bachelors   \n",
       "4    5                              Building Science  Bachelors   \n",
       "\n",
       "   Early Career Pay ($)  Mid-Career Pay ($) % High Meaning  \n",
       "0             97,500.00          212,500.00             61  \n",
       "1             98,300.00          191,800.00             21  \n",
       "2             74,700.00          173,600.00             54  \n",
       "3             76,500.00          164,400.00             54  \n",
       "4             69,000.00          163,100.00             47  "
      ]
     },
     "execution_count": 13,
     "metadata": {},
     "output_type": "execute_result"
    }
   ],
   "source": [
    "df = pd.DataFrame(data=report)\n",
    "\n",
    "df.head()"
   ]
  },
  {
   "cell_type": "code",
   "execution_count": 14,
   "id": "5eafd363",
   "metadata": {},
   "outputs": [
    {
     "name": "stdout",
     "output_type": "stream",
     "text": [
      "<class 'pandas.core.frame.DataFrame'>\n",
      "RangeIndex: 25 entries, 0 to 24\n",
      "Data columns (total 6 columns):\n",
      " #   Column                Non-Null Count  Dtype  \n",
      "---  ------                --------------  -----  \n",
      " 0   Rank                  25 non-null     object \n",
      " 1   Major                 25 non-null     object \n",
      " 2   Degree                25 non-null     object \n",
      " 3   Early Career Pay ($)  25 non-null     float64\n",
      " 4   Mid-Career Pay ($)    25 non-null     float64\n",
      " 5   % High Meaning        25 non-null     object \n",
      "dtypes: float64(2), object(4)\n",
      "memory usage: 1.3+ KB\n"
     ]
    }
   ],
   "source": [
    "# summary informations\n",
    "\n",
    "df.info()"
   ]
  },
  {
   "cell_type": "markdown",
   "id": "83131c0f",
   "metadata": {},
   "source": [
    "### Major with Highest Pay Potential\n"
   ]
  },
  {
   "cell_type": "code",
   "execution_count": 9,
   "id": "de3b97b6",
   "metadata": {},
   "outputs": [
    {
     "data": {
      "text/plain": [
       "'Petroleum Engineering'"
      ]
     },
     "execution_count": 9,
     "metadata": {},
     "output_type": "execute_result"
    }
   ],
   "source": [
    "highest_potential_index = df['Mid-Career Pay ($)'].idxmax()\n",
    "\n",
    "degree_with_highest_potential = df['Major'].loc[highest_potential_index]\n",
    "\n",
    "degree_with_highest_potential"
   ]
  },
  {
   "cell_type": "markdown",
   "id": "77fee8e4",
   "metadata": {},
   "source": [
    "### Major with Highest Pay after Graduation"
   ]
  },
  {
   "cell_type": "code",
   "execution_count": 10,
   "id": "1a8e60d6",
   "metadata": {},
   "outputs": [
    {
     "data": {
      "text/plain": [
       "'Operations Research & Industrial Engineering'"
      ]
     },
     "execution_count": 10,
     "metadata": {},
     "output_type": "execute_result"
    }
   ],
   "source": [
    "highest_pay_index = df['Early Career Pay ($)'].idxmax()\n",
    "\n",
    "major = df['Major'].loc[highest_pay_index]\n",
    "\n",
    "major"
   ]
  },
  {
   "cell_type": "code",
   "execution_count": null,
   "id": "991b8382",
   "metadata": {},
   "outputs": [],
   "source": []
  }
 ],
 "metadata": {
  "kernelspec": {
   "display_name": "Python 3 (ipykernel)",
   "language": "python",
   "name": "python3"
  },
  "language_info": {
   "codemirror_mode": {
    "name": "ipython",
    "version": 3
   },
   "file_extension": ".py",
   "mimetype": "text/x-python",
   "name": "python",
   "nbconvert_exporter": "python",
   "pygments_lexer": "ipython3",
   "version": "3.11.5"
  }
 },
 "nbformat": 4,
 "nbformat_minor": 5
}
