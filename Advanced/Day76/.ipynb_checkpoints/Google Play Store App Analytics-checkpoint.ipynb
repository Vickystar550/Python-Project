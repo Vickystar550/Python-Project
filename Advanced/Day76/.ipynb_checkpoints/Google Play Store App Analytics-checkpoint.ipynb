{
 "cells": [
  {
   "cell_type": "markdown",
   "metadata": {
    "dc": {
     "key": "4"
    },
    "id": "-Sxae4jbdiT2",
    "run_control": {
     "frozen": true
    },
    "tags": [
     "context"
    ]
   },
   "source": [
    "# Introduction\n",
    "\n",
    "In this notebook, we will do a comprehensive analysis of the Android app market by comparing thousands of apps in the Google Play store."
   ]
  },
  {
   "cell_type": "markdown",
   "metadata": {
    "id": "sDT5lMxadiT3"
   },
   "source": [
    "# About the Dataset of Google Play Store Apps & Reviews"
   ]
  },
  {
   "cell_type": "markdown",
   "metadata": {
    "id": "5CiydsdNdiT3"
   },
   "source": [
    "**Data Source:** <br>\n",
    "App and review data was scraped from the Google Play Store by Lavanya Gupta in 2018. Original files listed [here](\n",
    "https://www.kaggle.com/lava18/google-play-store-apps)."
   ]
  },
  {
   "cell_type": "markdown",
   "metadata": {
    "id": "BBKBNy4UdiT4"
   },
   "source": [
    "# Import Statements"
   ]
  },
  {
   "cell_type": "code",
   "execution_count": 1,
   "metadata": {
    "executionInfo": {
     "elapsed": 594,
     "status": "ok",
     "timestamp": 1602234478794,
     "user": {
      "displayName": "Philipp Muellauer",
      "photoUrl": "https://lh3.googleusercontent.com/a-/AOh14GjjWitgsmZ0M9Wmzf-SRYD005WcMGhejWWHMUiZnFw=s64",
      "userId": "02749974243016517270"
     },
     "user_tz": -60
    },
    "id": "_5mfFH4_diT4"
   },
   "outputs": [],
   "source": [
    "import pandas as pd\n"
   ]
  },
  {
   "cell_type": "markdown",
   "metadata": {
    "id": "KegC9nPDdiT7"
   },
   "source": [
    "# Notebook Presentation"
   ]
  },
  {
   "cell_type": "code",
   "execution_count": 2,
   "metadata": {
    "id": "WPL7rhJndiT7"
   },
   "outputs": [],
   "source": [
    "# Show numeric output in decimal format e.g., 2.15\n",
    "pd.options.display.float_format = '{:,.2f}'.format"
   ]
  },
  {
   "cell_type": "markdown",
   "metadata": {
    "id": "Uc9LOZu9diT-"
   },
   "source": [
    "# Read the Dataset"
   ]
  },
  {
   "cell_type": "code",
   "execution_count": 3,
   "metadata": {
    "colab": {
     "base_uri": "https://localhost:8080/",
     "height": 375
    },
    "executionInfo": {
     "elapsed": 441,
     "status": "error",
     "timestamp": 1602234486357,
     "user": {
      "displayName": "Philipp Muellauer",
      "photoUrl": "https://lh3.googleusercontent.com/a-/AOh14GjjWitgsmZ0M9Wmzf-SRYD005WcMGhejWWHMUiZnFw=s64",
      "userId": "02749974243016517270"
     },
     "user_tz": -60
    },
    "id": "zU0Zisv_diT-",
    "outputId": "f88a917e-30a1-45a4-b17a-ab21e557913c"
   },
   "outputs": [],
   "source": [
    "df_apps = pd.read_csv('apps.csv')\n"
   ]
  },
  {
   "cell_type": "markdown",
   "metadata": {
    "id": "iKvSUwQldiUA"
   },
   "source": [
    "# Data Cleaning"
   ]
  },
  {
   "cell_type": "markdown",
   "metadata": {
    "id": "MWTzYZIds5L9"
   },
   "source": [
    "**Challenge**: How many rows and columns does `df_apps` have? What are the column names? Look at a random sample of 5 different rows with [.sample()](https://pandas.pydata.org/pandas-docs/stable/reference/api/pandas.DataFrame.sample.html)."
   ]
  },
  {
   "cell_type": "code",
   "execution_count": 4,
   "metadata": {
    "id": "HJI7UsPrnuRf"
   },
   "outputs": [
    {
     "data": {
      "text/plain": [
       "(10841, 12)"
      ]
     },
     "execution_count": 4,
     "metadata": {},
     "output_type": "execute_result"
    }
   ],
   "source": [
    "df_apps.shape"
   ]
  },
  {
   "cell_type": "code",
   "execution_count": 5,
   "metadata": {
    "id": "fKXFjPkmnuYA"
   },
   "outputs": [
    {
     "data": {
      "text/plain": [
       "Index(['App', 'Category', 'Rating', 'Reviews', 'Size_MBs', 'Installs', 'Type',\n",
       "       'Price', 'Content_Rating', 'Genres', 'Last_Updated', 'Android_Ver'],\n",
       "      dtype='object')"
      ]
     },
     "execution_count": 5,
     "metadata": {},
     "output_type": "execute_result"
    }
   ],
   "source": [
    "df_apps.columns"
   ]
  },
  {
   "cell_type": "code",
   "execution_count": 6,
   "metadata": {
    "id": "MUluaHF5nueH"
   },
   "outputs": [
    {
     "data": {
      "text/html": [
       "<div>\n",
       "<style scoped>\n",
       "    .dataframe tbody tr th:only-of-type {\n",
       "        vertical-align: middle;\n",
       "    }\n",
       "\n",
       "    .dataframe tbody tr th {\n",
       "        vertical-align: top;\n",
       "    }\n",
       "\n",
       "    .dataframe thead th {\n",
       "        text-align: right;\n",
       "    }\n",
       "</style>\n",
       "<table border=\"1\" class=\"dataframe\">\n",
       "  <thead>\n",
       "    <tr style=\"text-align: right;\">\n",
       "      <th></th>\n",
       "      <th>App</th>\n",
       "      <th>Category</th>\n",
       "      <th>Rating</th>\n",
       "      <th>Reviews</th>\n",
       "      <th>Size_MBs</th>\n",
       "      <th>Installs</th>\n",
       "      <th>Type</th>\n",
       "      <th>Price</th>\n",
       "      <th>Content_Rating</th>\n",
       "      <th>Genres</th>\n",
       "      <th>Last_Updated</th>\n",
       "      <th>Android_Ver</th>\n",
       "    </tr>\n",
       "  </thead>\n",
       "  <tbody>\n",
       "    <tr>\n",
       "      <th>1091</th>\n",
       "      <td>México City D.F News</td>\n",
       "      <td>NEWS_AND_MAGAZINES</td>\n",
       "      <td>NaN</td>\n",
       "      <td>2</td>\n",
       "      <td>5.70</td>\n",
       "      <td>100</td>\n",
       "      <td>Free</td>\n",
       "      <td>0</td>\n",
       "      <td>Everyone</td>\n",
       "      <td>News &amp; Magazines</td>\n",
       "      <td>May 9, 2016</td>\n",
       "      <td>4.0.3 and up</td>\n",
       "    </tr>\n",
       "    <tr>\n",
       "      <th>6223</th>\n",
       "      <td>Debonairs Pizza</td>\n",
       "      <td>FOOD_AND_DRINK</td>\n",
       "      <td>3.80</td>\n",
       "      <td>3320</td>\n",
       "      <td>8.40</td>\n",
       "      <td>500,000</td>\n",
       "      <td>Free</td>\n",
       "      <td>0</td>\n",
       "      <td>Everyone</td>\n",
       "      <td>Food &amp; Drink</td>\n",
       "      <td>August 4, 2018</td>\n",
       "      <td>4.0.3 and up</td>\n",
       "    </tr>\n",
       "    <tr>\n",
       "      <th>8110</th>\n",
       "      <td>The NBC App - Watch Live TV and Full Episodes</td>\n",
       "      <td>ENTERTAINMENT</td>\n",
       "      <td>4.10</td>\n",
       "      <td>58028</td>\n",
       "      <td>17.00</td>\n",
       "      <td>5,000,000</td>\n",
       "      <td>Free</td>\n",
       "      <td>0</td>\n",
       "      <td>Teen</td>\n",
       "      <td>Entertainment</td>\n",
       "      <td>July 5, 2018</td>\n",
       "      <td>4.1 and up</td>\n",
       "    </tr>\n",
       "    <tr>\n",
       "      <th>2971</th>\n",
       "      <td>CL Pro Client for Craigslist</td>\n",
       "      <td>SHOPPING</td>\n",
       "      <td>3.60</td>\n",
       "      <td>48</td>\n",
       "      <td>2.20</td>\n",
       "      <td>5,000</td>\n",
       "      <td>Free</td>\n",
       "      <td>0</td>\n",
       "      <td>Everyone</td>\n",
       "      <td>Shopping</td>\n",
       "      <td>September 10, 2016</td>\n",
       "      <td>4.0 and up</td>\n",
       "    </tr>\n",
       "    <tr>\n",
       "      <th>7964</th>\n",
       "      <td>Soccer Manager 2018</td>\n",
       "      <td>SPORTS</td>\n",
       "      <td>4.40</td>\n",
       "      <td>63779</td>\n",
       "      <td>95.00</td>\n",
       "      <td>1,000,000</td>\n",
       "      <td>Free</td>\n",
       "      <td>0</td>\n",
       "      <td>Everyone</td>\n",
       "      <td>Sports</td>\n",
       "      <td>July 16, 2018</td>\n",
       "      <td>5.0 and up</td>\n",
       "    </tr>\n",
       "  </tbody>\n",
       "</table>\n",
       "</div>"
      ],
      "text/plain": [
       "                                                App            Category  \\\n",
       "1091                           México City D.F News  NEWS_AND_MAGAZINES   \n",
       "6223                                Debonairs Pizza      FOOD_AND_DRINK   \n",
       "8110  The NBC App - Watch Live TV and Full Episodes       ENTERTAINMENT   \n",
       "2971                   CL Pro Client for Craigslist            SHOPPING   \n",
       "7964                            Soccer Manager 2018              SPORTS   \n",
       "\n",
       "      Rating  Reviews  Size_MBs   Installs  Type Price Content_Rating  \\\n",
       "1091     NaN        2      5.70        100  Free     0       Everyone   \n",
       "6223    3.80     3320      8.40    500,000  Free     0       Everyone   \n",
       "8110    4.10    58028     17.00  5,000,000  Free     0           Teen   \n",
       "2971    3.60       48      2.20      5,000  Free     0       Everyone   \n",
       "7964    4.40    63779     95.00  1,000,000  Free     0       Everyone   \n",
       "\n",
       "                Genres        Last_Updated   Android_Ver  \n",
       "1091  News & Magazines         May 9, 2016  4.0.3 and up  \n",
       "6223      Food & Drink      August 4, 2018  4.0.3 and up  \n",
       "8110     Entertainment        July 5, 2018    4.1 and up  \n",
       "2971          Shopping  September 10, 2016    4.0 and up  \n",
       "7964            Sports       July 16, 2018    5.0 and up  "
      ]
     },
     "execution_count": 6,
     "metadata": {},
     "output_type": "execute_result"
    }
   ],
   "source": [
    "df_apps.sample(n=5)"
   ]
  },
  {
   "cell_type": "markdown",
   "metadata": {
    "id": "Hh81sMcvdiUI"
   },
   "source": [
    "### Drop Unused Columns\n",
    "\n",
    "**Challenge**: Remove the columns called `Last_Updated` and `Android_Version` from the DataFrame. We will not use these columns. "
   ]
  },
  {
   "cell_type": "code",
   "execution_count": 7,
   "metadata": {
    "id": "t7EMSKAOnyzI"
   },
   "outputs": [
    {
     "data": {
      "text/html": [
       "<div>\n",
       "<style scoped>\n",
       "    .dataframe tbody tr th:only-of-type {\n",
       "        vertical-align: middle;\n",
       "    }\n",
       "\n",
       "    .dataframe tbody tr th {\n",
       "        vertical-align: top;\n",
       "    }\n",
       "\n",
       "    .dataframe thead th {\n",
       "        text-align: right;\n",
       "    }\n",
       "</style>\n",
       "<table border=\"1\" class=\"dataframe\">\n",
       "  <thead>\n",
       "    <tr style=\"text-align: right;\">\n",
       "      <th></th>\n",
       "      <th>App</th>\n",
       "      <th>Category</th>\n",
       "      <th>Rating</th>\n",
       "      <th>Reviews</th>\n",
       "      <th>Size_MBs</th>\n",
       "      <th>Installs</th>\n",
       "      <th>Type</th>\n",
       "      <th>Price</th>\n",
       "      <th>Content_Rating</th>\n",
       "      <th>Genres</th>\n",
       "    </tr>\n",
       "  </thead>\n",
       "  <tbody>\n",
       "    <tr>\n",
       "      <th>0</th>\n",
       "      <td>Ak Parti Yardım Toplama</td>\n",
       "      <td>SOCIAL</td>\n",
       "      <td>NaN</td>\n",
       "      <td>0</td>\n",
       "      <td>8.70</td>\n",
       "      <td>0</td>\n",
       "      <td>Paid</td>\n",
       "      <td>$13.99</td>\n",
       "      <td>Teen</td>\n",
       "      <td>Social</td>\n",
       "    </tr>\n",
       "    <tr>\n",
       "      <th>1</th>\n",
       "      <td>Ain Arabic Kids Alif Ba ta</td>\n",
       "      <td>FAMILY</td>\n",
       "      <td>NaN</td>\n",
       "      <td>0</td>\n",
       "      <td>33.00</td>\n",
       "      <td>0</td>\n",
       "      <td>Paid</td>\n",
       "      <td>$2.99</td>\n",
       "      <td>Everyone</td>\n",
       "      <td>Education</td>\n",
       "    </tr>\n",
       "    <tr>\n",
       "      <th>2</th>\n",
       "      <td>Popsicle Launcher for Android P 9.0 launcher</td>\n",
       "      <td>PERSONALIZATION</td>\n",
       "      <td>NaN</td>\n",
       "      <td>0</td>\n",
       "      <td>5.50</td>\n",
       "      <td>0</td>\n",
       "      <td>Paid</td>\n",
       "      <td>$1.49</td>\n",
       "      <td>Everyone</td>\n",
       "      <td>Personalization</td>\n",
       "    </tr>\n",
       "    <tr>\n",
       "      <th>3</th>\n",
       "      <td>Command &amp; Conquer: Rivals</td>\n",
       "      <td>FAMILY</td>\n",
       "      <td>NaN</td>\n",
       "      <td>0</td>\n",
       "      <td>19.00</td>\n",
       "      <td>0</td>\n",
       "      <td>NaN</td>\n",
       "      <td>0</td>\n",
       "      <td>Everyone 10+</td>\n",
       "      <td>Strategy</td>\n",
       "    </tr>\n",
       "    <tr>\n",
       "      <th>4</th>\n",
       "      <td>CX Network</td>\n",
       "      <td>BUSINESS</td>\n",
       "      <td>NaN</td>\n",
       "      <td>0</td>\n",
       "      <td>10.00</td>\n",
       "      <td>0</td>\n",
       "      <td>Free</td>\n",
       "      <td>0</td>\n",
       "      <td>Everyone</td>\n",
       "      <td>Business</td>\n",
       "    </tr>\n",
       "  </tbody>\n",
       "</table>\n",
       "</div>"
      ],
      "text/plain": [
       "                                            App         Category  Rating  \\\n",
       "0                       Ak Parti Yardım Toplama           SOCIAL     NaN   \n",
       "1                    Ain Arabic Kids Alif Ba ta           FAMILY     NaN   \n",
       "2  Popsicle Launcher for Android P 9.0 launcher  PERSONALIZATION     NaN   \n",
       "3                     Command & Conquer: Rivals           FAMILY     NaN   \n",
       "4                                    CX Network         BUSINESS     NaN   \n",
       "\n",
       "   Reviews  Size_MBs Installs  Type   Price Content_Rating           Genres  \n",
       "0        0      8.70        0  Paid  $13.99           Teen           Social  \n",
       "1        0     33.00        0  Paid   $2.99       Everyone        Education  \n",
       "2        0      5.50        0  Paid   $1.49       Everyone  Personalization  \n",
       "3        0     19.00        0   NaN       0   Everyone 10+         Strategy  \n",
       "4        0     10.00        0  Free       0       Everyone         Business  "
      ]
     },
     "execution_count": 7,
     "metadata": {},
     "output_type": "execute_result"
    }
   ],
   "source": [
    "df_apps.drop(columns=['Last_Updated', 'Android_Ver'], inplace=True, axis=1)\n",
    "\n",
    "df_apps.head()"
   ]
  },
  {
   "cell_type": "markdown",
   "metadata": {
    "id": "YQGe1DIKdiUM"
   },
   "source": [
    "### Find and Remove NaN values in Ratings\n",
    "\n",
    "**Challenge**: How may rows have a NaN value (not-a-number) in the Ratings column? Create DataFrame called `df_apps_clean` that does not include these rows. "
   ]
  },
  {
   "cell_type": "code",
   "execution_count": 8,
   "metadata": {
    "id": "grcP1IOZn1Wv"
   },
   "outputs": [
    {
     "data": {
      "text/plain": [
       "1474"
      ]
     },
     "metadata": {},
     "output_type": "display_data"
    },
    {
     "data": {
      "text/plain": [
       "(1474, 10)"
      ]
     },
     "metadata": {},
     "output_type": "display_data"
    }
   ],
   "source": [
    "display(df_apps.Rating.isna().values.sum())\n",
    "\n",
    "display(df_apps[df_apps.Rating.isna()].shape)"
   ]
  },
  {
   "cell_type": "code",
   "execution_count": 9,
   "metadata": {
    "id": "IbQnnPaUn1Pw"
   },
   "outputs": [
    {
     "data": {
      "text/html": [
       "<div>\n",
       "<style scoped>\n",
       "    .dataframe tbody tr th:only-of-type {\n",
       "        vertical-align: middle;\n",
       "    }\n",
       "\n",
       "    .dataframe tbody tr th {\n",
       "        vertical-align: top;\n",
       "    }\n",
       "\n",
       "    .dataframe thead th {\n",
       "        text-align: right;\n",
       "    }\n",
       "</style>\n",
       "<table border=\"1\" class=\"dataframe\">\n",
       "  <thead>\n",
       "    <tr style=\"text-align: right;\">\n",
       "      <th></th>\n",
       "      <th>App</th>\n",
       "      <th>Category</th>\n",
       "      <th>Rating</th>\n",
       "      <th>Reviews</th>\n",
       "      <th>Size_MBs</th>\n",
       "      <th>Installs</th>\n",
       "      <th>Type</th>\n",
       "      <th>Price</th>\n",
       "      <th>Content_Rating</th>\n",
       "      <th>Genres</th>\n",
       "    </tr>\n",
       "  </thead>\n",
       "  <tbody>\n",
       "    <tr>\n",
       "      <th>21</th>\n",
       "      <td>KBA-EZ Health Guide</td>\n",
       "      <td>MEDICAL</td>\n",
       "      <td>5.00</td>\n",
       "      <td>4</td>\n",
       "      <td>25.00</td>\n",
       "      <td>1</td>\n",
       "      <td>Free</td>\n",
       "      <td>0</td>\n",
       "      <td>Everyone</td>\n",
       "      <td>Medical</td>\n",
       "    </tr>\n",
       "    <tr>\n",
       "      <th>28</th>\n",
       "      <td>Ra Ga Ba</td>\n",
       "      <td>GAME</td>\n",
       "      <td>5.00</td>\n",
       "      <td>2</td>\n",
       "      <td>20.00</td>\n",
       "      <td>1</td>\n",
       "      <td>Paid</td>\n",
       "      <td>$1.49</td>\n",
       "      <td>Everyone</td>\n",
       "      <td>Arcade</td>\n",
       "    </tr>\n",
       "    <tr>\n",
       "      <th>47</th>\n",
       "      <td>Mu.F.O.</td>\n",
       "      <td>GAME</td>\n",
       "      <td>5.00</td>\n",
       "      <td>2</td>\n",
       "      <td>16.00</td>\n",
       "      <td>1</td>\n",
       "      <td>Paid</td>\n",
       "      <td>$0.99</td>\n",
       "      <td>Everyone</td>\n",
       "      <td>Arcade</td>\n",
       "    </tr>\n",
       "    <tr>\n",
       "      <th>82</th>\n",
       "      <td>Brick Breaker BR</td>\n",
       "      <td>GAME</td>\n",
       "      <td>5.00</td>\n",
       "      <td>7</td>\n",
       "      <td>19.00</td>\n",
       "      <td>5</td>\n",
       "      <td>Free</td>\n",
       "      <td>0</td>\n",
       "      <td>Everyone</td>\n",
       "      <td>Arcade</td>\n",
       "    </tr>\n",
       "    <tr>\n",
       "      <th>99</th>\n",
       "      <td>Anatomy &amp; Physiology Vocabulary Exam Review App</td>\n",
       "      <td>MEDICAL</td>\n",
       "      <td>5.00</td>\n",
       "      <td>1</td>\n",
       "      <td>4.60</td>\n",
       "      <td>5</td>\n",
       "      <td>Free</td>\n",
       "      <td>0</td>\n",
       "      <td>Everyone</td>\n",
       "      <td>Medical</td>\n",
       "    </tr>\n",
       "  </tbody>\n",
       "</table>\n",
       "</div>"
      ],
      "text/plain": [
       "                                                App Category  Rating  Reviews  \\\n",
       "21                              KBA-EZ Health Guide  MEDICAL    5.00        4   \n",
       "28                                         Ra Ga Ba     GAME    5.00        2   \n",
       "47                                          Mu.F.O.     GAME    5.00        2   \n",
       "82                                 Brick Breaker BR     GAME    5.00        7   \n",
       "99  Anatomy & Physiology Vocabulary Exam Review App  MEDICAL    5.00        1   \n",
       "\n",
       "    Size_MBs Installs  Type  Price Content_Rating   Genres  \n",
       "21     25.00        1  Free      0       Everyone  Medical  \n",
       "28     20.00        1  Paid  $1.49       Everyone   Arcade  \n",
       "47     16.00        1  Paid  $0.99       Everyone   Arcade  \n",
       "82     19.00        5  Free      0       Everyone   Arcade  \n",
       "99      4.60        5  Free      0       Everyone  Medical  "
      ]
     },
     "metadata": {},
     "output_type": "display_data"
    },
    {
     "data": {
      "text/plain": [
       "(9367, 10)"
      ]
     },
     "execution_count": 9,
     "metadata": {},
     "output_type": "execute_result"
    }
   ],
   "source": [
    "df_apps_clean = df_apps.dropna(subset='Rating')\n",
    "\n",
    "display(df_apps_clean.head())\n",
    "\n",
    "df_apps_clean.shape"
   ]
  },
  {
   "cell_type": "markdown",
   "metadata": {
    "id": "pD26SWlxdiUV"
   },
   "source": [
    "### Find and Remove Duplicates\n",
    "\n",
    "**Challenge**: Are there any duplicates in data? Check for duplicates using the [.duplicated()](https://pandas.pydata.org/pandas-docs/stable/reference/api/pandas.DataFrame.duplicated.html) function. How many entries can you find for the \"Instagram\" app? Use [.drop_duplicates()](https://pandas.pydata.org/pandas-docs/stable/reference/api/pandas.DataFrame.drop_duplicates.html) to remove any duplicates from `df_apps_clean`. \n"
   ]
  },
  {
   "cell_type": "code",
   "execution_count": 10,
   "metadata": {
    "id": "lE7X6KG3n5pR",
    "scrolled": true
   },
   "outputs": [
    {
     "name": "stdout",
     "output_type": "stream",
     "text": [
      "(476, 10)\n"
     ]
    },
    {
     "data": {
      "text/html": [
       "<div>\n",
       "<style scoped>\n",
       "    .dataframe tbody tr th:only-of-type {\n",
       "        vertical-align: middle;\n",
       "    }\n",
       "\n",
       "    .dataframe tbody tr th {\n",
       "        vertical-align: top;\n",
       "    }\n",
       "\n",
       "    .dataframe thead th {\n",
       "        text-align: right;\n",
       "    }\n",
       "</style>\n",
       "<table border=\"1\" class=\"dataframe\">\n",
       "  <thead>\n",
       "    <tr style=\"text-align: right;\">\n",
       "      <th></th>\n",
       "      <th>App</th>\n",
       "      <th>Category</th>\n",
       "      <th>Rating</th>\n",
       "      <th>Reviews</th>\n",
       "      <th>Size_MBs</th>\n",
       "      <th>Installs</th>\n",
       "      <th>Type</th>\n",
       "      <th>Price</th>\n",
       "      <th>Content_Rating</th>\n",
       "      <th>Genres</th>\n",
       "    </tr>\n",
       "  </thead>\n",
       "  <tbody>\n",
       "    <tr>\n",
       "      <th>946</th>\n",
       "      <td>420 BZ Budeze Delivery</td>\n",
       "      <td>MEDICAL</td>\n",
       "      <td>5.00</td>\n",
       "      <td>2</td>\n",
       "      <td>11.00</td>\n",
       "      <td>100</td>\n",
       "      <td>Free</td>\n",
       "      <td>0</td>\n",
       "      <td>Mature 17+</td>\n",
       "      <td>Medical</td>\n",
       "    </tr>\n",
       "    <tr>\n",
       "      <th>1133</th>\n",
       "      <td>MouseMingle</td>\n",
       "      <td>DATING</td>\n",
       "      <td>2.70</td>\n",
       "      <td>3</td>\n",
       "      <td>3.90</td>\n",
       "      <td>100</td>\n",
       "      <td>Free</td>\n",
       "      <td>0</td>\n",
       "      <td>Mature 17+</td>\n",
       "      <td>Dating</td>\n",
       "    </tr>\n",
       "    <tr>\n",
       "      <th>1196</th>\n",
       "      <td>Cardiac diagnosis (heart rate, arrhythmia)</td>\n",
       "      <td>MEDICAL</td>\n",
       "      <td>4.40</td>\n",
       "      <td>8</td>\n",
       "      <td>6.50</td>\n",
       "      <td>100</td>\n",
       "      <td>Paid</td>\n",
       "      <td>$12.99</td>\n",
       "      <td>Everyone</td>\n",
       "      <td>Medical</td>\n",
       "    </tr>\n",
       "    <tr>\n",
       "      <th>1231</th>\n",
       "      <td>Sway Medical</td>\n",
       "      <td>MEDICAL</td>\n",
       "      <td>5.00</td>\n",
       "      <td>3</td>\n",
       "      <td>22.00</td>\n",
       "      <td>100</td>\n",
       "      <td>Free</td>\n",
       "      <td>0</td>\n",
       "      <td>Everyone</td>\n",
       "      <td>Medical</td>\n",
       "    </tr>\n",
       "    <tr>\n",
       "      <th>1247</th>\n",
       "      <td>Chat Kids - Chat Room For Kids</td>\n",
       "      <td>DATING</td>\n",
       "      <td>4.70</td>\n",
       "      <td>6</td>\n",
       "      <td>4.90</td>\n",
       "      <td>100</td>\n",
       "      <td>Free</td>\n",
       "      <td>0</td>\n",
       "      <td>Mature 17+</td>\n",
       "      <td>Dating</td>\n",
       "    </tr>\n",
       "  </tbody>\n",
       "</table>\n",
       "</div>"
      ],
      "text/plain": [
       "                                             App Category  Rating  Reviews  \\\n",
       "946                       420 BZ Budeze Delivery  MEDICAL    5.00        2   \n",
       "1133                                 MouseMingle   DATING    2.70        3   \n",
       "1196  Cardiac diagnosis (heart rate, arrhythmia)  MEDICAL    4.40        8   \n",
       "1231                                Sway Medical  MEDICAL    5.00        3   \n",
       "1247              Chat Kids - Chat Room For Kids   DATING    4.70        6   \n",
       "\n",
       "      Size_MBs Installs  Type   Price Content_Rating   Genres  \n",
       "946      11.00      100  Free       0     Mature 17+  Medical  \n",
       "1133      3.90      100  Free       0     Mature 17+   Dating  \n",
       "1196      6.50      100  Paid  $12.99       Everyone  Medical  \n",
       "1231     22.00      100  Free       0       Everyone  Medical  \n",
       "1247      4.90      100  Free       0     Mature 17+   Dating  "
      ]
     },
     "metadata": {},
     "output_type": "display_data"
    },
    {
     "data": {
      "text/html": [
       "<div>\n",
       "<style scoped>\n",
       "    .dataframe tbody tr th:only-of-type {\n",
       "        vertical-align: middle;\n",
       "    }\n",
       "\n",
       "    .dataframe tbody tr th {\n",
       "        vertical-align: top;\n",
       "    }\n",
       "\n",
       "    .dataframe thead th {\n",
       "        text-align: right;\n",
       "    }\n",
       "</style>\n",
       "<table border=\"1\" class=\"dataframe\">\n",
       "  <thead>\n",
       "    <tr style=\"text-align: right;\">\n",
       "      <th></th>\n",
       "      <th>App</th>\n",
       "      <th>Category</th>\n",
       "      <th>Rating</th>\n",
       "      <th>Reviews</th>\n",
       "      <th>Size_MBs</th>\n",
       "      <th>Installs</th>\n",
       "      <th>Type</th>\n",
       "      <th>Price</th>\n",
       "      <th>Content_Rating</th>\n",
       "      <th>Genres</th>\n",
       "    </tr>\n",
       "  </thead>\n",
       "  <tbody>\n",
       "    <tr>\n",
       "      <th>10806</th>\n",
       "      <td>Instagram</td>\n",
       "      <td>SOCIAL</td>\n",
       "      <td>4.50</td>\n",
       "      <td>66577313</td>\n",
       "      <td>5.30</td>\n",
       "      <td>1,000,000,000</td>\n",
       "      <td>Free</td>\n",
       "      <td>0</td>\n",
       "      <td>Teen</td>\n",
       "      <td>Social</td>\n",
       "    </tr>\n",
       "    <tr>\n",
       "      <th>10808</th>\n",
       "      <td>Instagram</td>\n",
       "      <td>SOCIAL</td>\n",
       "      <td>4.50</td>\n",
       "      <td>66577446</td>\n",
       "      <td>5.30</td>\n",
       "      <td>1,000,000,000</td>\n",
       "      <td>Free</td>\n",
       "      <td>0</td>\n",
       "      <td>Teen</td>\n",
       "      <td>Social</td>\n",
       "    </tr>\n",
       "    <tr>\n",
       "      <th>10809</th>\n",
       "      <td>Instagram</td>\n",
       "      <td>SOCIAL</td>\n",
       "      <td>4.50</td>\n",
       "      <td>66577313</td>\n",
       "      <td>5.30</td>\n",
       "      <td>1,000,000,000</td>\n",
       "      <td>Free</td>\n",
       "      <td>0</td>\n",
       "      <td>Teen</td>\n",
       "      <td>Social</td>\n",
       "    </tr>\n",
       "    <tr>\n",
       "      <th>10810</th>\n",
       "      <td>Instagram</td>\n",
       "      <td>SOCIAL</td>\n",
       "      <td>4.50</td>\n",
       "      <td>66509917</td>\n",
       "      <td>5.30</td>\n",
       "      <td>1,000,000,000</td>\n",
       "      <td>Free</td>\n",
       "      <td>0</td>\n",
       "      <td>Teen</td>\n",
       "      <td>Social</td>\n",
       "    </tr>\n",
       "  </tbody>\n",
       "</table>\n",
       "</div>"
      ],
      "text/plain": [
       "             App Category  Rating   Reviews  Size_MBs       Installs  Type  \\\n",
       "10806  Instagram   SOCIAL    4.50  66577313      5.30  1,000,000,000  Free   \n",
       "10808  Instagram   SOCIAL    4.50  66577446      5.30  1,000,000,000  Free   \n",
       "10809  Instagram   SOCIAL    4.50  66577313      5.30  1,000,000,000  Free   \n",
       "10810  Instagram   SOCIAL    4.50  66509917      5.30  1,000,000,000  Free   \n",
       "\n",
       "      Price Content_Rating  Genres  \n",
       "10806     0           Teen  Social  \n",
       "10808     0           Teen  Social  \n",
       "10809     0           Teen  Social  \n",
       "10810     0           Teen  Social  "
      ]
     },
     "metadata": {},
     "output_type": "display_data"
    }
   ],
   "source": [
    "duplicated_rows = df_apps_clean[df_apps_clean.duplicated()]\n",
    "\n",
    "print(duplicated_rows.shape)\n",
    "\n",
    "display(duplicated_rows.head())\n",
    "\n",
    "duplicated_rows[duplicated_rows.App == \"Instagram\"]\n",
    "\n",
    "display(df_apps_clean[df_apps_clean.App == \"Instagram\"])"
   ]
  },
  {
   "cell_type": "code",
   "execution_count": 11,
   "metadata": {
    "id": "GK2rP7wgn53-"
   },
   "outputs": [
    {
     "data": {
      "text/html": [
       "<div>\n",
       "<style scoped>\n",
       "    .dataframe tbody tr th:only-of-type {\n",
       "        vertical-align: middle;\n",
       "    }\n",
       "\n",
       "    .dataframe tbody tr th {\n",
       "        vertical-align: top;\n",
       "    }\n",
       "\n",
       "    .dataframe thead th {\n",
       "        text-align: right;\n",
       "    }\n",
       "</style>\n",
       "<table border=\"1\" class=\"dataframe\">\n",
       "  <thead>\n",
       "    <tr style=\"text-align: right;\">\n",
       "      <th></th>\n",
       "      <th>App</th>\n",
       "      <th>Category</th>\n",
       "      <th>Rating</th>\n",
       "      <th>Reviews</th>\n",
       "      <th>Size_MBs</th>\n",
       "      <th>Installs</th>\n",
       "      <th>Type</th>\n",
       "      <th>Price</th>\n",
       "      <th>Content_Rating</th>\n",
       "      <th>Genres</th>\n",
       "    </tr>\n",
       "  </thead>\n",
       "  <tbody>\n",
       "    <tr>\n",
       "      <th>10806</th>\n",
       "      <td>Instagram</td>\n",
       "      <td>SOCIAL</td>\n",
       "      <td>4.50</td>\n",
       "      <td>66577313</td>\n",
       "      <td>5.30</td>\n",
       "      <td>1,000,000,000</td>\n",
       "      <td>Free</td>\n",
       "      <td>0</td>\n",
       "      <td>Teen</td>\n",
       "      <td>Social</td>\n",
       "    </tr>\n",
       "  </tbody>\n",
       "</table>\n",
       "</div>"
      ],
      "text/plain": [
       "             App Category  Rating   Reviews  Size_MBs       Installs  Type  \\\n",
       "10806  Instagram   SOCIAL    4.50  66577313      5.30  1,000,000,000  Free   \n",
       "\n",
       "      Price Content_Rating  Genres  \n",
       "10806     0           Teen  Social  "
      ]
     },
     "execution_count": 11,
     "metadata": {},
     "output_type": "execute_result"
    }
   ],
   "source": [
    "# droping duplicates\n",
    "\n",
    "df_apps_clean = df_apps_clean.drop_duplicates(subset=['App', 'Type', 'Price'])\n",
    "\n",
    "df_apps_clean[df_apps_clean.App == 'Instagram']"
   ]
  },
  {
   "cell_type": "code",
   "execution_count": 12,
   "metadata": {
    "id": "Wtt09kiRn6GS"
   },
   "outputs": [
    {
     "data": {
      "text/plain": [
       "(8199, 10)"
      ]
     },
     "execution_count": 12,
     "metadata": {},
     "output_type": "execute_result"
    }
   ],
   "source": [
    "df_apps_clean.shape"
   ]
  },
  {
   "cell_type": "code",
   "execution_count": 13,
   "metadata": {
    "id": "30yZCwtKn5xC"
   },
   "outputs": [
    {
     "data": {
      "text/plain": [
       "692"
      ]
     },
     "execution_count": 13,
     "metadata": {},
     "output_type": "execute_result"
    }
   ],
   "source": [
    "9367-476-8199"
   ]
  },
  {
   "cell_type": "code",
   "execution_count": null,
   "metadata": {
    "id": "AagS_wgWn5ib"
   },
   "outputs": [],
   "source": []
  },
  {
   "cell_type": "markdown",
   "metadata": {
    "id": "GJrM69CfdiUh"
   },
   "source": [
    "# Find Highest Rated Apps\n",
    "\n",
    "**Challenge**: Identify which apps are the highest rated. What problem might you encounter if you rely exclusively on ratings alone to determine the quality of an app?"
   ]
  },
  {
   "cell_type": "code",
   "execution_count": 30,
   "metadata": {
    "id": "rp7vFHBMn7st"
   },
   "outputs": [
    {
     "data": {
      "text/html": [
       "<div>\n",
       "<style scoped>\n",
       "    .dataframe tbody tr th:only-of-type {\n",
       "        vertical-align: middle;\n",
       "    }\n",
       "\n",
       "    .dataframe tbody tr th {\n",
       "        vertical-align: top;\n",
       "    }\n",
       "\n",
       "    .dataframe thead th {\n",
       "        text-align: right;\n",
       "    }\n",
       "</style>\n",
       "<table border=\"1\" class=\"dataframe\">\n",
       "  <thead>\n",
       "    <tr style=\"text-align: right;\">\n",
       "      <th></th>\n",
       "      <th>App</th>\n",
       "      <th>Category</th>\n",
       "      <th>Rating</th>\n",
       "      <th>Reviews</th>\n",
       "      <th>Size_MBs</th>\n",
       "      <th>Installs</th>\n",
       "      <th>Type</th>\n",
       "      <th>Price</th>\n",
       "      <th>Content_Rating</th>\n",
       "      <th>Genres</th>\n",
       "    </tr>\n",
       "  </thead>\n",
       "  <tbody>\n",
       "    <tr>\n",
       "      <th>21</th>\n",
       "      <td>KBA-EZ Health Guide</td>\n",
       "      <td>MEDICAL</td>\n",
       "      <td>5.00</td>\n",
       "      <td>4</td>\n",
       "      <td>25.00</td>\n",
       "      <td>1</td>\n",
       "      <td>Free</td>\n",
       "      <td>0</td>\n",
       "      <td>Everyone</td>\n",
       "      <td>Medical</td>\n",
       "    </tr>\n",
       "    <tr>\n",
       "      <th>1230</th>\n",
       "      <td>Sway Medical</td>\n",
       "      <td>MEDICAL</td>\n",
       "      <td>5.00</td>\n",
       "      <td>3</td>\n",
       "      <td>22.00</td>\n",
       "      <td>100</td>\n",
       "      <td>Free</td>\n",
       "      <td>0</td>\n",
       "      <td>Everyone</td>\n",
       "      <td>Medical</td>\n",
       "    </tr>\n",
       "    <tr>\n",
       "      <th>1227</th>\n",
       "      <td>AJ Men's Grooming</td>\n",
       "      <td>LIFESTYLE</td>\n",
       "      <td>5.00</td>\n",
       "      <td>2</td>\n",
       "      <td>22.00</td>\n",
       "      <td>100</td>\n",
       "      <td>Free</td>\n",
       "      <td>0</td>\n",
       "      <td>Everyone</td>\n",
       "      <td>Lifestyle</td>\n",
       "    </tr>\n",
       "    <tr>\n",
       "      <th>1224</th>\n",
       "      <td>FK Dedinje BGD</td>\n",
       "      <td>SPORTS</td>\n",
       "      <td>5.00</td>\n",
       "      <td>36</td>\n",
       "      <td>2.60</td>\n",
       "      <td>100</td>\n",
       "      <td>Free</td>\n",
       "      <td>0</td>\n",
       "      <td>Everyone</td>\n",
       "      <td>Sports</td>\n",
       "    </tr>\n",
       "    <tr>\n",
       "      <th>1223</th>\n",
       "      <td>CB VIDEO VISION</td>\n",
       "      <td>PHOTOGRAPHY</td>\n",
       "      <td>5.00</td>\n",
       "      <td>13</td>\n",
       "      <td>2.60</td>\n",
       "      <td>100</td>\n",
       "      <td>Free</td>\n",
       "      <td>0</td>\n",
       "      <td>Everyone</td>\n",
       "      <td>Photography</td>\n",
       "    </tr>\n",
       "    <tr>\n",
       "      <th>...</th>\n",
       "      <td>...</td>\n",
       "      <td>...</td>\n",
       "      <td>...</td>\n",
       "      <td>...</td>\n",
       "      <td>...</td>\n",
       "      <td>...</td>\n",
       "      <td>...</td>\n",
       "      <td>...</td>\n",
       "      <td>...</td>\n",
       "      <td>...</td>\n",
       "    </tr>\n",
       "    <tr>\n",
       "      <th>1314</th>\n",
       "      <td>CR Magazine</td>\n",
       "      <td>BUSINESS</td>\n",
       "      <td>1.00</td>\n",
       "      <td>1</td>\n",
       "      <td>7.80</td>\n",
       "      <td>100</td>\n",
       "      <td>Free</td>\n",
       "      <td>0</td>\n",
       "      <td>Everyone</td>\n",
       "      <td>Business</td>\n",
       "    </tr>\n",
       "    <tr>\n",
       "      <th>1932</th>\n",
       "      <td>FE Mechanical Engineering Prep</td>\n",
       "      <td>FAMILY</td>\n",
       "      <td>1.00</td>\n",
       "      <td>2</td>\n",
       "      <td>21.00</td>\n",
       "      <td>1,000</td>\n",
       "      <td>Free</td>\n",
       "      <td>0</td>\n",
       "      <td>Everyone</td>\n",
       "      <td>Education</td>\n",
       "    </tr>\n",
       "    <tr>\n",
       "      <th>357</th>\n",
       "      <td>Speech Therapy: F</td>\n",
       "      <td>FAMILY</td>\n",
       "      <td>1.00</td>\n",
       "      <td>1</td>\n",
       "      <td>16.00</td>\n",
       "      <td>10</td>\n",
       "      <td>Paid</td>\n",
       "      <td>$2.99</td>\n",
       "      <td>Everyone</td>\n",
       "      <td>Education</td>\n",
       "    </tr>\n",
       "    <tr>\n",
       "      <th>818</th>\n",
       "      <td>Familial Hypercholesterolaemia Handbook</td>\n",
       "      <td>MEDICAL</td>\n",
       "      <td>1.00</td>\n",
       "      <td>2</td>\n",
       "      <td>33.00</td>\n",
       "      <td>100</td>\n",
       "      <td>Free</td>\n",
       "      <td>0</td>\n",
       "      <td>Everyone</td>\n",
       "      <td>Medical</td>\n",
       "    </tr>\n",
       "    <tr>\n",
       "      <th>1208</th>\n",
       "      <td>Thistletown CI</td>\n",
       "      <td>PRODUCTIVITY</td>\n",
       "      <td>1.00</td>\n",
       "      <td>1</td>\n",
       "      <td>6.60</td>\n",
       "      <td>100</td>\n",
       "      <td>Free</td>\n",
       "      <td>0</td>\n",
       "      <td>Everyone</td>\n",
       "      <td>Productivity</td>\n",
       "    </tr>\n",
       "  </tbody>\n",
       "</table>\n",
       "<p>8199 rows × 10 columns</p>\n",
       "</div>"
      ],
      "text/plain": [
       "                                          App      Category  Rating  Reviews  \\\n",
       "21                        KBA-EZ Health Guide       MEDICAL    5.00        4   \n",
       "1230                             Sway Medical       MEDICAL    5.00        3   \n",
       "1227                        AJ Men's Grooming     LIFESTYLE    5.00        2   \n",
       "1224                           FK Dedinje BGD        SPORTS    5.00       36   \n",
       "1223                          CB VIDEO VISION   PHOTOGRAPHY    5.00       13   \n",
       "...                                       ...           ...     ...      ...   \n",
       "1314                              CR Magazine      BUSINESS    1.00        1   \n",
       "1932           FE Mechanical Engineering Prep        FAMILY    1.00        2   \n",
       "357                         Speech Therapy: F        FAMILY    1.00        1   \n",
       "818   Familial Hypercholesterolaemia Handbook       MEDICAL    1.00        2   \n",
       "1208                           Thistletown CI  PRODUCTIVITY    1.00        1   \n",
       "\n",
       "      Size_MBs Installs  Type  Price Content_Rating        Genres  \n",
       "21       25.00        1  Free      0       Everyone       Medical  \n",
       "1230     22.00      100  Free      0       Everyone       Medical  \n",
       "1227     22.00      100  Free      0       Everyone     Lifestyle  \n",
       "1224      2.60      100  Free      0       Everyone        Sports  \n",
       "1223      2.60      100  Free      0       Everyone   Photography  \n",
       "...        ...      ...   ...    ...            ...           ...  \n",
       "1314      7.80      100  Free      0       Everyone      Business  \n",
       "1932     21.00    1,000  Free      0       Everyone     Education  \n",
       "357      16.00       10  Paid  $2.99       Everyone     Education  \n",
       "818      33.00      100  Free      0       Everyone       Medical  \n",
       "1208      6.60      100  Free      0       Everyone  Productivity  \n",
       "\n",
       "[8199 rows x 10 columns]"
      ]
     },
     "execution_count": 30,
     "metadata": {},
     "output_type": "execute_result"
    }
   ],
   "source": [
    "df_apps_clean.sort_values(by='Rating', ascending=False)"
   ]
  },
  {
   "cell_type": "markdown",
   "metadata": {
    "id": "28o1Tro4diUi"
   },
   "source": [
    "# Find 5 Largest Apps in terms of Size (MBs)\n",
    "\n",
    "**Challenge**: What's the size in megabytes (MB) of the largest Android apps in the Google Play Store. Based on the data, do you think there could be limit in place or can developers make apps as large as they please? "
   ]
  },
  {
   "cell_type": "code",
   "execution_count": 31,
   "metadata": {
    "id": "n5r0pJCOn9Vu"
   },
   "outputs": [
    {
     "data": {
      "text/html": [
       "<div>\n",
       "<style scoped>\n",
       "    .dataframe tbody tr th:only-of-type {\n",
       "        vertical-align: middle;\n",
       "    }\n",
       "\n",
       "    .dataframe tbody tr th {\n",
       "        vertical-align: top;\n",
       "    }\n",
       "\n",
       "    .dataframe thead th {\n",
       "        text-align: right;\n",
       "    }\n",
       "</style>\n",
       "<table border=\"1\" class=\"dataframe\">\n",
       "  <thead>\n",
       "    <tr style=\"text-align: right;\">\n",
       "      <th></th>\n",
       "      <th>App</th>\n",
       "      <th>Category</th>\n",
       "      <th>Rating</th>\n",
       "      <th>Reviews</th>\n",
       "      <th>Size_MBs</th>\n",
       "      <th>Installs</th>\n",
       "      <th>Type</th>\n",
       "      <th>Price</th>\n",
       "      <th>Content_Rating</th>\n",
       "      <th>Genres</th>\n",
       "    </tr>\n",
       "  </thead>\n",
       "  <tbody>\n",
       "    <tr>\n",
       "      <th>9942</th>\n",
       "      <td>Talking Babsy Baby: Baby Games</td>\n",
       "      <td>LIFESTYLE</td>\n",
       "      <td>4.00</td>\n",
       "      <td>140995</td>\n",
       "      <td>100.00</td>\n",
       "      <td>10,000,000</td>\n",
       "      <td>Free</td>\n",
       "      <td>0</td>\n",
       "      <td>Everyone</td>\n",
       "      <td>Lifestyle;Pretend Play</td>\n",
       "    </tr>\n",
       "    <tr>\n",
       "      <th>10687</th>\n",
       "      <td>Hungry Shark Evolution</td>\n",
       "      <td>GAME</td>\n",
       "      <td>4.50</td>\n",
       "      <td>6074334</td>\n",
       "      <td>100.00</td>\n",
       "      <td>100,000,000</td>\n",
       "      <td>Free</td>\n",
       "      <td>0</td>\n",
       "      <td>Teen</td>\n",
       "      <td>Arcade</td>\n",
       "    </tr>\n",
       "    <tr>\n",
       "      <th>9943</th>\n",
       "      <td>Miami crime simulator</td>\n",
       "      <td>GAME</td>\n",
       "      <td>4.00</td>\n",
       "      <td>254518</td>\n",
       "      <td>100.00</td>\n",
       "      <td>10,000,000</td>\n",
       "      <td>Free</td>\n",
       "      <td>0</td>\n",
       "      <td>Mature 17+</td>\n",
       "      <td>Action</td>\n",
       "    </tr>\n",
       "    <tr>\n",
       "      <th>9944</th>\n",
       "      <td>Gangster Town: Vice District</td>\n",
       "      <td>FAMILY</td>\n",
       "      <td>4.30</td>\n",
       "      <td>65146</td>\n",
       "      <td>100.00</td>\n",
       "      <td>10,000,000</td>\n",
       "      <td>Free</td>\n",
       "      <td>0</td>\n",
       "      <td>Mature 17+</td>\n",
       "      <td>Simulation</td>\n",
       "    </tr>\n",
       "    <tr>\n",
       "      <th>3144</th>\n",
       "      <td>Vi Trainer</td>\n",
       "      <td>HEALTH_AND_FITNESS</td>\n",
       "      <td>3.60</td>\n",
       "      <td>124</td>\n",
       "      <td>100.00</td>\n",
       "      <td>5,000</td>\n",
       "      <td>Free</td>\n",
       "      <td>0</td>\n",
       "      <td>Everyone</td>\n",
       "      <td>Health &amp; Fitness</td>\n",
       "    </tr>\n",
       "    <tr>\n",
       "      <th>...</th>\n",
       "      <td>...</td>\n",
       "      <td>...</td>\n",
       "      <td>...</td>\n",
       "      <td>...</td>\n",
       "      <td>...</td>\n",
       "      <td>...</td>\n",
       "      <td>...</td>\n",
       "      <td>...</td>\n",
       "      <td>...</td>\n",
       "      <td>...</td>\n",
       "    </tr>\n",
       "    <tr>\n",
       "      <th>2648</th>\n",
       "      <td>Ad Remove Plugin for App2SD</td>\n",
       "      <td>PRODUCTIVITY</td>\n",
       "      <td>4.10</td>\n",
       "      <td>66</td>\n",
       "      <td>0.02</td>\n",
       "      <td>1,000</td>\n",
       "      <td>Paid</td>\n",
       "      <td>$1.29</td>\n",
       "      <td>Everyone</td>\n",
       "      <td>Productivity</td>\n",
       "    </tr>\n",
       "    <tr>\n",
       "      <th>5798</th>\n",
       "      <td>ExDialer PRO Key</td>\n",
       "      <td>COMMUNICATION</td>\n",
       "      <td>4.50</td>\n",
       "      <td>5474</td>\n",
       "      <td>0.02</td>\n",
       "      <td>100,000</td>\n",
       "      <td>Paid</td>\n",
       "      <td>$3.99</td>\n",
       "      <td>Everyone</td>\n",
       "      <td>Communication</td>\n",
       "    </tr>\n",
       "    <tr>\n",
       "      <th>2684</th>\n",
       "      <td>My baby firework (Remove ad)</td>\n",
       "      <td>FAMILY</td>\n",
       "      <td>4.10</td>\n",
       "      <td>30</td>\n",
       "      <td>0.01</td>\n",
       "      <td>1,000</td>\n",
       "      <td>Paid</td>\n",
       "      <td>$0.99</td>\n",
       "      <td>Everyone</td>\n",
       "      <td>Entertainment</td>\n",
       "    </tr>\n",
       "    <tr>\n",
       "      <th>7966</th>\n",
       "      <td>Market Update Helper</td>\n",
       "      <td>LIBRARIES_AND_DEMO</td>\n",
       "      <td>4.10</td>\n",
       "      <td>20145</td>\n",
       "      <td>0.01</td>\n",
       "      <td>1,000,000</td>\n",
       "      <td>Free</td>\n",
       "      <td>0</td>\n",
       "      <td>Everyone</td>\n",
       "      <td>Libraries &amp; Demo</td>\n",
       "    </tr>\n",
       "    <tr>\n",
       "      <th>4696</th>\n",
       "      <td>Essential Resources</td>\n",
       "      <td>LIBRARIES_AND_DEMO</td>\n",
       "      <td>4.60</td>\n",
       "      <td>237</td>\n",
       "      <td>0.01</td>\n",
       "      <td>50,000</td>\n",
       "      <td>Free</td>\n",
       "      <td>0</td>\n",
       "      <td>Everyone</td>\n",
       "      <td>Libraries &amp; Demo</td>\n",
       "    </tr>\n",
       "  </tbody>\n",
       "</table>\n",
       "<p>8199 rows × 10 columns</p>\n",
       "</div>"
      ],
      "text/plain": [
       "                                  App            Category  Rating  Reviews  \\\n",
       "9942   Talking Babsy Baby: Baby Games           LIFESTYLE    4.00   140995   \n",
       "10687          Hungry Shark Evolution                GAME    4.50  6074334   \n",
       "9943            Miami crime simulator                GAME    4.00   254518   \n",
       "9944     Gangster Town: Vice District              FAMILY    4.30    65146   \n",
       "3144                       Vi Trainer  HEALTH_AND_FITNESS    3.60      124   \n",
       "...                               ...                 ...     ...      ...   \n",
       "2648      Ad Remove Plugin for App2SD        PRODUCTIVITY    4.10       66   \n",
       "5798                 ExDialer PRO Key       COMMUNICATION    4.50     5474   \n",
       "2684     My baby firework (Remove ad)              FAMILY    4.10       30   \n",
       "7966             Market Update Helper  LIBRARIES_AND_DEMO    4.10    20145   \n",
       "4696              Essential Resources  LIBRARIES_AND_DEMO    4.60      237   \n",
       "\n",
       "       Size_MBs     Installs  Type  Price Content_Rating  \\\n",
       "9942     100.00   10,000,000  Free      0       Everyone   \n",
       "10687    100.00  100,000,000  Free      0           Teen   \n",
       "9943     100.00   10,000,000  Free      0     Mature 17+   \n",
       "9944     100.00   10,000,000  Free      0     Mature 17+   \n",
       "3144     100.00        5,000  Free      0       Everyone   \n",
       "...         ...          ...   ...    ...            ...   \n",
       "2648       0.02        1,000  Paid  $1.29       Everyone   \n",
       "5798       0.02      100,000  Paid  $3.99       Everyone   \n",
       "2684       0.01        1,000  Paid  $0.99       Everyone   \n",
       "7966       0.01    1,000,000  Free      0       Everyone   \n",
       "4696       0.01       50,000  Free      0       Everyone   \n",
       "\n",
       "                       Genres  \n",
       "9942   Lifestyle;Pretend Play  \n",
       "10687                  Arcade  \n",
       "9943                   Action  \n",
       "9944               Simulation  \n",
       "3144         Health & Fitness  \n",
       "...                       ...  \n",
       "2648             Productivity  \n",
       "5798            Communication  \n",
       "2684            Entertainment  \n",
       "7966         Libraries & Demo  \n",
       "4696         Libraries & Demo  \n",
       "\n",
       "[8199 rows x 10 columns]"
      ]
     },
     "execution_count": 31,
     "metadata": {},
     "output_type": "execute_result"
    }
   ],
   "source": [
    "df_apps_clean.sort_values(by='Size_MBs', ascending=False)"
   ]
  },
  {
   "cell_type": "markdown",
   "metadata": {
    "id": "C3gTckh7diUk"
   },
   "source": [
    "# Find the 5 App with Most Reviews\n",
    "\n",
    "**Challenge**: Which apps have the highest number of reviews? Are there any paid apps among the top 50?"
   ]
  },
  {
   "cell_type": "code",
   "execution_count": 28,
   "metadata": {
    "id": "TLt98G0Sn_De"
   },
   "outputs": [
    {
     "data": {
      "text/html": [
       "<div>\n",
       "<style scoped>\n",
       "    .dataframe tbody tr th:only-of-type {\n",
       "        vertical-align: middle;\n",
       "    }\n",
       "\n",
       "    .dataframe tbody tr th {\n",
       "        vertical-align: top;\n",
       "    }\n",
       "\n",
       "    .dataframe thead th {\n",
       "        text-align: right;\n",
       "    }\n",
       "</style>\n",
       "<table border=\"1\" class=\"dataframe\">\n",
       "  <thead>\n",
       "    <tr style=\"text-align: right;\">\n",
       "      <th></th>\n",
       "      <th>App</th>\n",
       "      <th>Category</th>\n",
       "      <th>Rating</th>\n",
       "      <th>Reviews</th>\n",
       "      <th>Size_MBs</th>\n",
       "      <th>Installs</th>\n",
       "      <th>Type</th>\n",
       "      <th>Price</th>\n",
       "      <th>Content_Rating</th>\n",
       "      <th>Genres</th>\n",
       "    </tr>\n",
       "  </thead>\n",
       "  <tbody>\n",
       "    <tr>\n",
       "      <th>10805</th>\n",
       "      <td>Facebook</td>\n",
       "      <td>SOCIAL</td>\n",
       "      <td>4.10</td>\n",
       "      <td>78158306</td>\n",
       "      <td>5.30</td>\n",
       "      <td>1,000,000,000</td>\n",
       "      <td>Free</td>\n",
       "      <td>0</td>\n",
       "      <td>Teen</td>\n",
       "      <td>Social</td>\n",
       "    </tr>\n",
       "  </tbody>\n",
       "</table>\n",
       "</div>"
      ],
      "text/plain": [
       "            App Category  Rating   Reviews  Size_MBs       Installs  Type  \\\n",
       "10805  Facebook   SOCIAL    4.10  78158306      5.30  1,000,000,000  Free   \n",
       "\n",
       "      Price Content_Rating  Genres  \n",
       "10805     0           Teen  Social  "
      ]
     },
     "metadata": {},
     "output_type": "display_data"
    },
    {
     "data": {
      "text/html": [
       "<div>\n",
       "<style scoped>\n",
       "    .dataframe tbody tr th:only-of-type {\n",
       "        vertical-align: middle;\n",
       "    }\n",
       "\n",
       "    .dataframe tbody tr th {\n",
       "        vertical-align: top;\n",
       "    }\n",
       "\n",
       "    .dataframe thead th {\n",
       "        text-align: right;\n",
       "    }\n",
       "</style>\n",
       "<table border=\"1\" class=\"dataframe\">\n",
       "  <thead>\n",
       "    <tr style=\"text-align: right;\">\n",
       "      <th></th>\n",
       "      <th>App</th>\n",
       "      <th>Category</th>\n",
       "      <th>Rating</th>\n",
       "      <th>Reviews</th>\n",
       "      <th>Size_MBs</th>\n",
       "      <th>Installs</th>\n",
       "      <th>Type</th>\n",
       "      <th>Price</th>\n",
       "      <th>Content_Rating</th>\n",
       "      <th>Genres</th>\n",
       "    </tr>\n",
       "  </thead>\n",
       "  <tbody>\n",
       "  </tbody>\n",
       "</table>\n",
       "</div>"
      ],
      "text/plain": [
       "Empty DataFrame\n",
       "Columns: [App, Category, Rating, Reviews, Size_MBs, Installs, Type, Price, Content_Rating, Genres]\n",
       "Index: []"
      ]
     },
     "metadata": {},
     "output_type": "display_data"
    }
   ],
   "source": [
    "# getting the 5 highest reviewed apps:\n",
    "highest_reviewed = df_apps_clean[df_apps_clean.Reviews == df_apps_clean.Reviews.max()]\n",
    "\n",
    "display(highest_reviewed)\n",
    "\n",
    "# Are there any paid apps among the top 50?\n",
    "\n",
    "top_50_highest_reviews = df_apps_clean.sort_values(by='Reviews', ascending=False).head(50)\n",
    "\n",
    "display(top_50_highest_reviews[top_50_highest_reviews.Type == \"Paid\"])"
   ]
  },
  {
   "cell_type": "markdown",
   "metadata": {
    "id": "BFoRqpezjebe"
   },
   "source": [
    "# Plotly Pie and Donut Charts - Visualise Categorical Data: Content Ratings"
   ]
  },
  {
   "cell_type": "code",
   "execution_count": null,
   "metadata": {
    "id": "c0IIxNGnoFKM"
   },
   "outputs": [],
   "source": []
  },
  {
   "cell_type": "code",
   "execution_count": null,
   "metadata": {
    "id": "TSiV6ZkjoFVg"
   },
   "outputs": [],
   "source": []
  },
  {
   "cell_type": "code",
   "execution_count": null,
   "metadata": {
    "id": "7kil2mdfoFOr"
   },
   "outputs": [],
   "source": []
  },
  {
   "cell_type": "code",
   "execution_count": null,
   "metadata": {
    "id": "6ZaHYNy2oFEE"
   },
   "outputs": [],
   "source": []
  },
  {
   "cell_type": "markdown",
   "metadata": {
    "id": "RoPpW37xdiUm"
   },
   "source": [
    "# Numeric Type Conversion: Examine the Number of Installs\n",
    "\n",
    "**Challenge**: How many apps had over 1 billion (that's right - BILLION) installations? How many apps just had a single install? \n",
    "\n",
    "Check the datatype of the Installs column.\n",
    "\n",
    "Count the number of apps at each level of installations. \n",
    "\n",
    "Convert the number of installations (the Installs column) to a numeric data type. Hint: this is a 2-step process. You'll have make sure you remove non-numeric characters first. "
   ]
  },
  {
   "cell_type": "code",
   "execution_count": null,
   "metadata": {
    "id": "uTNyWsPboJLq"
   },
   "outputs": [],
   "source": []
  },
  {
   "cell_type": "code",
   "execution_count": null,
   "metadata": {
    "id": "yzR49fYcoJRI"
   },
   "outputs": [],
   "source": []
  },
  {
   "cell_type": "code",
   "execution_count": null,
   "metadata": {
    "id": "cFjptR-JoJOE"
   },
   "outputs": [],
   "source": []
  },
  {
   "cell_type": "code",
   "execution_count": null,
   "metadata": {
    "id": "8AMmxKHgoJGT"
   },
   "outputs": [],
   "source": []
  },
  {
   "cell_type": "markdown",
   "metadata": {
    "id": "7T4sfNpFdiUv"
   },
   "source": [
    "# Find the Most Expensive Apps, Filter out the Junk, and Calculate a (ballpark) Sales Revenue Estimate\n",
    "\n",
    "Let's examine the Price column more closely.\n",
    "\n",
    "**Challenge**: Convert the price column to numeric data. Then investigate the top 20 most expensive apps in the dataset.\n",
    "\n",
    "Remove all apps that cost more than $250 from the `df_apps_clean` DataFrame.\n",
    "\n",
    "Add a column called 'Revenue_Estimate' to the DataFrame. This column should hold the price of the app times the number of installs. What are the top 10 highest grossing paid apps according to this estimate? Out of the top 10 highest grossing paid apps, how many are games?\n"
   ]
  },
  {
   "cell_type": "code",
   "execution_count": null,
   "metadata": {
    "id": "CqhX2WCJoQEp"
   },
   "outputs": [],
   "source": []
  },
  {
   "cell_type": "markdown",
   "metadata": {
    "id": "Rgposh-CdiU4"
   },
   "source": [
    "### The most expensive apps sub $250"
   ]
  },
  {
   "cell_type": "code",
   "execution_count": null,
   "metadata": {
    "id": "c8_n8z8XoUML"
   },
   "outputs": [],
   "source": []
  },
  {
   "cell_type": "markdown",
   "metadata": {
    "id": "VGu85CLb4OOH"
   },
   "source": [
    "### Highest Grossing Paid Apps (ballpark estimate)"
   ]
  },
  {
   "cell_type": "code",
   "execution_count": null,
   "metadata": {
    "id": "3mDi45iIoVzE"
   },
   "outputs": [],
   "source": []
  },
  {
   "cell_type": "markdown",
   "metadata": {
    "dc": {
     "key": "18"
    },
    "id": "lvpM2MyTdiU6",
    "run_control": {
     "frozen": true
    },
    "tags": [
     "context"
    ]
   },
   "source": [
    "# Plotly Bar Charts & Scatter Plots: Analysing App Categories"
   ]
  },
  {
   "cell_type": "code",
   "execution_count": null,
   "metadata": {
    "id": "3L6hK0aLoYxY"
   },
   "outputs": [],
   "source": []
  },
  {
   "cell_type": "code",
   "execution_count": null,
   "metadata": {
    "id": "mg50Ts9joYz1"
   },
   "outputs": [],
   "source": []
  },
  {
   "cell_type": "code",
   "execution_count": null,
   "metadata": {
    "id": "WZZizlGjoYfn"
   },
   "outputs": [],
   "source": []
  },
  {
   "cell_type": "markdown",
   "metadata": {
    "id": "0tTurR7qdiU9"
   },
   "source": [
    "### Vertical Bar Chart - Highest Competition (Number of Apps)"
   ]
  },
  {
   "cell_type": "code",
   "execution_count": null,
   "metadata": {
    "id": "SFSMH00AoaMB"
   },
   "outputs": [],
   "source": []
  },
  {
   "cell_type": "markdown",
   "metadata": {
    "id": "57mowetLdiU_"
   },
   "source": [
    "### Horizontal Bar Chart - Most Popular Categories (Highest Downloads)"
   ]
  },
  {
   "cell_type": "code",
   "execution_count": null,
   "metadata": {
    "id": "zHO7eTJmocLm"
   },
   "outputs": [],
   "source": []
  },
  {
   "cell_type": "code",
   "execution_count": null,
   "metadata": {
    "id": "h7aUARLtocCy"
   },
   "outputs": [],
   "source": []
  },
  {
   "cell_type": "markdown",
   "metadata": {
    "id": "Uxk24qMk8vrz"
   },
   "source": [
    "### Category Concentration - Downloads vs. Competition\n",
    "\n",
    "**Challenge**: \n",
    "* First, create a DataFrame that has the number of apps in one column and the number of installs in another:\n",
    "\n",
    "<img src=https://imgur.com/uQRSlXi.png width=\"350\">\n",
    "\n",
    "* Then use the [plotly express examples from the documentation](https://plotly.com/python/line-and-scatter/) alongside the [.scatter() API reference](https://plotly.com/python-api-reference/generated/plotly.express.scatter.html)to create scatter plot that looks like this. \n",
    "\n",
    "<img src=https://imgur.com/cHsqh6a.png>\n",
    "\n",
    "*Hint*: Use the size, hover_name and color parameters in .scatter(). To scale the yaxis, call .update_layout() and specify that the yaxis should be on a log-scale like so: yaxis=dict(type='log') "
   ]
  },
  {
   "cell_type": "code",
   "execution_count": null,
   "metadata": {
    "id": "tVvGPDY7oe5A"
   },
   "outputs": [],
   "source": []
  },
  {
   "cell_type": "markdown",
   "metadata": {
    "id": "dmXDF75WdiVC"
   },
   "source": [
    "# Extracting Nested Data from a Column\n",
    "\n",
    "**Challenge**: How many different types of genres are there? Can an app belong to more than one genre? Check what happens when you use .value_counts() on a column with nested values? See if you can work around this problem by using the .split() function and the DataFrame's [.stack() method](https://pandas.pydata.org/pandas-docs/stable/reference/api/pandas.DataFrame.stack.html). \n"
   ]
  },
  {
   "cell_type": "code",
   "execution_count": null,
   "metadata": {
    "id": "3Lo69kS6ogdm"
   },
   "outputs": [],
   "source": []
  },
  {
   "cell_type": "markdown",
   "metadata": {
    "id": "F3zaKvfydiVI"
   },
   "source": [
    "# Colour Scales in Plotly Charts - Competition in Genres"
   ]
  },
  {
   "cell_type": "markdown",
   "metadata": {
    "id": "Ucw6RT59diVK"
   },
   "source": [
    "**Challenge**: Can you create this chart with the Series containing the genre data? \n",
    "\n",
    "<img src=https://imgur.com/DbcoQli.png width=400>\n",
    "\n",
    "Try experimenting with the built in colour scales in Plotly. You can find a full list [here](https://plotly.com/python/builtin-colorscales/). \n",
    "\n",
    "* Find a way to set the colour scale using the color_continuous_scale parameter. \n",
    "* Find a way to make the color axis disappear by using coloraxis_showscale. "
   ]
  },
  {
   "cell_type": "code",
   "execution_count": null,
   "metadata": {
    "id": "c5xbfMgxojoA"
   },
   "outputs": [],
   "source": []
  },
  {
   "cell_type": "markdown",
   "metadata": {
    "id": "BIWG_10PyIzL"
   },
   "source": [
    "# Grouped Bar Charts: Free vs. Paid Apps per Category"
   ]
  },
  {
   "cell_type": "code",
   "execution_count": null,
   "metadata": {
    "id": "ANMs7xywolDH"
   },
   "outputs": [],
   "source": []
  },
  {
   "cell_type": "markdown",
   "metadata": {
    "id": "wmRXm0TW1e_Z"
   },
   "source": [
    "**Challenge**: Use the plotly express bar [chart examples](https://plotly.com/python/bar-charts/#bar-chart-with-sorted-or-ordered-categories) and the [.bar() API reference](https://plotly.com/python-api-reference/generated/plotly.express.bar.html#plotly.express.bar) to create this bar chart: \n",
    "\n",
    "<img src=https://imgur.com/LE0XCxA.png>\n",
    "\n",
    "You'll want to use the `df_free_vs_paid` DataFrame that you created above that has the total number of free and paid apps per category. \n",
    "\n",
    "See if you can figure out how to get the look above by changing the `categoryorder` to 'total descending' as outlined in the documentation here [here](https://plotly.com/python/categorical-axes/#automatically-sorting-categories-by-name-or-total-value). "
   ]
  },
  {
   "cell_type": "code",
   "execution_count": null,
   "metadata": {
    "id": "tqOntrS7onGt"
   },
   "outputs": [],
   "source": []
  },
  {
   "cell_type": "markdown",
   "metadata": {
    "id": "nbYh2tU-VZ-i"
   },
   "source": [
    "# Plotly Box Plots: Lost Downloads for Paid Apps\n",
    "\n",
    "**Challenge**: Create a box plot that shows the number of Installs for free versus paid apps. How does the median number of installations compare? Is the difference large or small?\n",
    "\n",
    "Use the [Box Plots Guide](https://plotly.com/python/box-plots/) and the [.box API reference](https://plotly.com/python-api-reference/generated/plotly.express.box.html) to create the following chart. \n",
    "\n",
    "<img src=https://imgur.com/uVsECT3.png>\n"
   ]
  },
  {
   "cell_type": "code",
   "execution_count": null,
   "metadata": {
    "id": "Jip3hMZ7oqLS"
   },
   "outputs": [],
   "source": []
  },
  {
   "cell_type": "markdown",
   "metadata": {
    "id": "Xi2NaEBPVNrP"
   },
   "source": [
    "# Plotly Box Plots: Revenue by App Category\n",
    "\n",
    "**Challenge**: See if you can generate the chart below: \n",
    "\n",
    "<img src=https://imgur.com/v4CiNqX.png>\n",
    "\n",
    "Looking at the hover text, how much does the median app earn in the Tools category? If developing an Android app costs $30,000 or thereabouts, does the average photography app recoup its development costs?\n",
    "\n",
    "Hint: I've used 'min ascending' to sort the categories. "
   ]
  },
  {
   "cell_type": "code",
   "execution_count": null,
   "metadata": {
    "id": "W1iVoT8Dos7x"
   },
   "outputs": [],
   "source": []
  },
  {
   "cell_type": "markdown",
   "metadata": {
    "id": "uT32ylj4WS9B"
   },
   "source": [
    "# How Much Can You Charge? Examine Paid App Pricing Strategies by Category\n",
    "\n",
    "**Challenge**: What is the median price price for a paid app? Then compare pricing by category by creating another box plot. But this time examine the prices (instead of the revenue estimates) of the paid apps. I recommend using `{categoryorder':'max descending'}` to sort the categories."
   ]
  },
  {
   "cell_type": "code",
   "execution_count": null,
   "metadata": {
    "id": "AdBr0TUhouqs"
   },
   "outputs": [],
   "source": []
  },
  {
   "cell_type": "code",
   "execution_count": null,
   "metadata": {
    "id": "bJnABRw3ovwr"
   },
   "outputs": [],
   "source": []
  },
  {
   "cell_type": "code",
   "execution_count": null,
   "metadata": {
    "id": "zSXVSlVyQ4Kz"
   },
   "outputs": [],
   "source": []
  }
 ],
 "metadata": {
  "colab": {
   "name": "Google Play Store App Analytics (start).ipynb",
   "provenance": [],
   "toc_visible": true
  },
  "kernelspec": {
   "display_name": "Python 3 (ipykernel)",
   "language": "python",
   "name": "python3"
  },
  "language_info": {
   "codemirror_mode": {
    "name": "ipython",
    "version": 3
   },
   "file_extension": ".py",
   "mimetype": "text/x-python",
   "name": "python",
   "nbconvert_exporter": "python",
   "pygments_lexer": "ipython3",
   "version": "3.11.5"
  }
 },
 "nbformat": 4,
 "nbformat_minor": 1
}
